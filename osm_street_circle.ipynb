{
 "cells": [
  {
   "cell_type": "markdown",
   "metadata": {},
   "source": [
    "Goal: create circular maps"
   ]
  },
  {
   "cell_type": "code",
   "execution_count": 1,
   "metadata": {},
   "outputs": [],
   "source": [
    "import osmnx as ox\n",
    "import geopandas as gpd\n",
    "import contextily as cx\n",
    "import shapely as shp\n",
    "import matplotlib.pyplot as plt"
   ]
  },
  {
   "cell_type": "code",
   "execution_count": 2,
   "metadata": {},
   "outputs": [],
   "source": [
    "# PLACE_NAMES = [\n",
    "#     # \"Marikina, Metro Manila\",\n",
    "#     # \"Quezon City, Metro Manila\",\n",
    "#     # \"Manila, Metro Manila\",\n",
    "#     \"Pasig, Metro Manila\",\n",
    "#     # \"Taguig, Metro Manila\"\n",
    "# ]"
   ]
  },
  {
   "cell_type": "code",
   "execution_count": 3,
   "metadata": {},
   "outputs": [
    {
     "data": {
      "text/plain": [
       "<Axes: >"
      ]
     },
     "execution_count": 3,
     "metadata": {},
     "output_type": "execute_result"
    },
    {
     "data": {
      "image/png": "[encoded data removed]",
      "text/plain": [
       "<Figure size 640x480 with 1 Axes>"
      ]
     },
     "metadata": {},
     "output_type": "display_data"
    }
   ],
   "source": [
    "# Set name for Nominatim query\n",
    "query = \"Cagayan de Oro\"\n",
    "buffer_dist = 2_000\n",
    "\n",
    "# Get buffer with aforementioned parameters using custom function\n",
    "from urban_indicators_scripts import get_buffer_from_place\n",
    "\n",
    "buffer = get_buffer_from_place(query, buffer_dist)\n",
    "buffer.plot()"
   ]
  },
  {
   "cell_type": "code",
   "execution_count": null,
   "metadata": {},
   "outputs": [],
   "source": [
    "# Get road network within buffer\n",
    "graph = ox.graph_from_polygon(buffer.geometry[0])\n",
    "\n",
    "# Convert intersections and streets to geodataframe\n",
    "intersections, streets = ox.graph_to_gdfs(graph)"
   ]
  },
  {
   "cell_type": "code",
   "execution_count": null,
   "metadata": {},
   "outputs": [],
   "source": [
    "# Reproject both GDFs to pseudo-mercator\n",
    "streets = streets.to_crs(\"EPSG:3857\")\n",
    "intersections = intersections.to_crs(\"EPSG:3857\")"
   ]
  },
  {
   "cell_type": "code",
   "execution_count": null,
   "metadata": {},
   "outputs": [],
   "source": [
    "# Set all NaN values in lanes column to 1\n",
    "streets.loc[streets[\"lanes\"].isna(), \"lanes\"] = 1\n",
    "\n",
    "# set all list values in lanes column to maximum item in list\n",
    "streets[\"lanes\"] = streets[\"lanes\"].apply(\n",
    "    lambda x: max(x) if isinstance(x, list) == True else x\n",
    ")\n",
    "\n",
    "# Convert lanes column to type int\n",
    "streets[\"lanes\"] = streets[\"lanes\"].astype(int)"
   ]
  },
  {
   "cell_type": "code",
   "execution_count": null,
   "metadata": {},
   "outputs": [],
   "source": [
    "# Get min and max number of lanes\n",
    "min_lanes = streets[\"lanes\"].min()\n",
    "max_lanes = streets[\"lanes\"].max()\n",
    "\n",
    "# Assign line width per number of lanes\n",
    "linewidths = {lane: lane * 0.25 for lane in range(min_lanes, max_lanes + 1)}\n",
    "linewidths"
   ]
  },
  {
   "cell_type": "code",
   "execution_count": null,
   "metadata": {},
   "outputs": [],
   "source": [
    "# Create figure and axis\n",
    "fig, ax = plt.subplots(figsize=(10,10))\n",
    "\n",
    "# For each lane number in streets...\n",
    "for lane, data in streets.groupby(\"lanes\"):\n",
    "    # Plot all streets with x no. of lanes...\n",
    "    data.plot(\n",
    "        color=\"white\",\n",
    "        ax=ax,\n",
    "        label=lane,\n",
    "        linewidth=linewidths[lane] # with correct line width\n",
    "    )\n",
    "\n",
    "# Set axis properties\n",
    "ax.set_facecolor(\"black\")\n",
    "ax.set_title(\n",
    "    # f\"{place_name}\\nRoad Network\",\n",
    "    place_name,\n",
    "    loc=\"left\",\n",
    "    color=\"white\",\n",
    "\n",
    "    fontsize=45.0,\n",
    "    fontfamily=\"Garamond\",\n",
    "    fontstretch=\"expanded\",\n",
    "\n",
    "    y=0.08, # 5% of figure height (from bottom)\n",
    "    x=0.03, # 95% of figure width (from left)\n",
    "    pad=3.0\n",
    ")\n",
    "ax.text(\n",
    "    x=minx-50,\n",
    "    y=miny-50,\n",
    "    s=\"Road Network\",\n",
    "    color=\"white\",\n",
    "    fontsize=20.0,\n",
    "    fontfamily=\"Garamond\",\n",
    "    fontstretch=\"expanded\"\n",
    ")\n",
    "\n",
    "buffer.to_crs(\"EPSG:3857\").plot(\n",
    "    edgecolor=\"darkgrey\",\n",
    "    facecolor=\"none\",\n",
    "    linewidth=0.25,\n",
    "    ax=ax\n",
    ")\n",
    "\n",
    "fig.set_facecolor(\"black\")\n",
    "fig.set_edgecolor(\"black\")\n",
    "\n",
    "# fig.suptitle(\n",
    "#     f\"Road Network\",\n",
    "#     ha=\"left\",\n",
    "#     color=\"white\",\n",
    "\n",
    "#     fontsize=24.0,\n",
    "#     fontfamily=\"Garamond\",\n",
    "#     fontstretch=\"expanded\",\n",
    "\n",
    "#     y=0.03, # 5% of figure height (from bottom)\n",
    "#     x=0.03, # 95% of figure width (from left)\n",
    "#     # pad=3.0\n",
    "# )\n",
    "\n",
    "# Get bounding box of buffer circle...\n",
    "minx, miny, maxx, maxy = buffer.to_crs(\"EPSG:3857\").total_bounds\n",
    "\n",
    "# ...to set x- and y-limits of axes (to ensure it is a square)\n",
    "ax.set_xlim(left=minx - 200, right=maxx + 200)\n",
    "ax.set_ylim(bottom=miny - 200, top=maxy + 200)\n",
    "\n",
    "# # Set legend properties\n",
    "# legend = ax.legend(\n",
    "#     title=\"Number of lanes\",\n",
    "#     prop={\"family\":\"Garamond\"},\n",
    "#     title_fontproperties={\n",
    "#         \"family\":\"Garamond\",\n",
    "#         \"size\": 14.0\n",
    "#     },\n",
    "#     loc=(0.05, 0.70),\n",
    "#     facecolor=\"black\",\n",
    "#     labelcolor=\"white\",\n",
    "    \n",
    "#     frameon=False,\n",
    "#     reverse=True,\n",
    "#     alignment=\"left\",\n",
    "\n",
    "#     borderpad=1.0,\n",
    "#     labelspacing=0.75\n",
    "# )\n",
    "# plt.setp(legend.get_title(), color=\"white\")\n",
    "\n",
    "# Remove axis labels for photo finish\n",
    "plt.xticks([])\n",
    "plt.yticks([])\n",
    "\n",
    "# # Remove margins?\n",
    "# plt.tight_layout(pad=7)"
   ]
  },
  {
   "cell_type": "code",
   "execution_count": null,
   "metadata": {},
   "outputs": [],
   "source": []
  }
 ],
 "metadata": {
  "kernelspec": {
   "display_name": "geopython",
   "language": "python",
   "name": "python3"
  },
  "language_info": {
   "codemirror_mode": {
    "name": "ipython",
    "version": 3
   },
   "file_extension": ".py",
   "mimetype": "text/x-python",
   "name": "python",
   "nbconvert_exporter": "python",
   "pygments_lexer": "ipython3",
   "version": "3.12.0"
  }
 },
 "nbformat": 4,
 "nbformat_minor": 2
}
